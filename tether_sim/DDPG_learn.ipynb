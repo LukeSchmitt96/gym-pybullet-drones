{
 "metadata": {
  "language_info": {
   "codemirror_mode": {
    "name": "ipython",
    "version": 3
   },
   "file_extension": ".py",
   "mimetype": "text/x-python",
   "name": "python",
   "nbconvert_exporter": "python",
   "pygments_lexer": "ipython3",
   "version": 3
  },
  "orig_nbformat": 2
 },
 "nbformat": 4,
 "nbformat_minor": 2,
 "cells": [
  {
   "source": [
    "<a href=\"https://colab.research.google.com/github/LukeSchmitt96/gym-pybullet-drones/blob/master/tether_sim/DDPG_learn.ipynb\" target=\"_parent\"><img src=\"https://colab.research.google.com/assets/colab-badge.svg\" alt=\"Open In Colab\"/></a>"
   ],
   "cell_type": "markdown",
   "metadata": {}
  },
  {
   "cell_type": "code",
   "execution_count": null,
   "metadata": {},
   "outputs": [],
   "source": [
    "!git clone https://github.com/LukeSchmitt96/gym-pybullet-drones"
   ]
  },
  {
   "cell_type": "code",
   "execution_count": null,
   "metadata": {},
   "outputs": [],
   "source": [
    "pip install gym\n",
    "pip install pybullet\n",
    "pip install stable-baselines3\n",
    "pip install 'ray[rllib]'\n",
    "cd gym-pybullet-drones/\n",
    "pip install -e ."
   ]
  },
  {
   "cell_type": "code",
   "execution_count": null,
   "metadata": {},
   "outputs": [],
   "source": [
    "import os\n",
    "import time\n",
    "import pdb\n",
    "import math\n",
    "import numpy as np\n",
    "import pybullet as p\n",
    "import gym\n",
    "from gym import error, spaces, utils\n",
    "from gym.utils import seeding\n",
    "from stable_baselines3 import DDPG\n",
    "from stable_baselines3.common.noise import NormalActionNoise, OrnsteinUhlenbeckActionNoise\n",
    "from stable_baselines3.ddpg.policies import MlpPolicy\n",
    "from stable_baselines3.common.env_checker import check_env\n",
    "\n",
    "from gym_pybullet_drones.envs.RLTetherAviary import RLTetherAviary\n",
    "\n",
    "if __name__ == \"__main__\":\n",
    "\n",
    "    #### Check the environment's spaces ################################################################\n",
    "    #env = gym.make(\"rl-CrazyFlie-aviary-v0\")\n",
    "    env = RLTetherAviary(gui=True, record=False)\n",
    "    print(\"[INFO] Action space:\", env.action_space)\n",
    "    print(\"[INFO] Observation space:\", env.observation_space)\n",
    "    print(\"[INFO] Checking Environment...\")\n",
    "    check_env(env, warn=True, skip_render_check=True) \n",
    "\n",
    "    #### Train the model ###############################################################################\n",
    "    model = DDPG(MlpPolicy, env, verbose=1, batch_size=64)\n",
    "    \n",
    "    training_timesteps = 500000\n",
    "    \n",
    "    for i in range(10):\n",
    "\n",
    "        model.learn(total_timesteps=training_timesteps)\n",
    "        model.save(\"ddpg\"+str((i+1)*training_timesteps))\n",
    "        model.save_replay_buffer(\"ddpg_experience\"+str((i+1)*training_timesteps))\n",
    "\n",
    "        #### Show (and record a video of) the model's performance ##########################################\n",
    "        env_test = RLTetherAviary(gui=1, record=0)\n",
    "        obs = env_test.reset()\n",
    "        start = time.time()\n",
    "        for i in range(10*env_test.SIM_FREQ):\n",
    "            action, _states = model.predict(obs, deterministic=True)\n",
    "            obs, reward, done, info = env_test.step(action)\n",
    "            env_test.render()\n",
    "            if done: break\n",
    "        env_test.close()\n",
    "\n",
    "    env.close()"
   ]
  }
 ]
}